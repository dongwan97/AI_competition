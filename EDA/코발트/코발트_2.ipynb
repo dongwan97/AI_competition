{
 "cells": [
  {
   "cell_type": "code",
   "execution_count": 1,
   "id": "b9a2aed8",
   "metadata": {},
   "outputs": [],
   "source": [
    "%matplotlib inline\n",
    "\n",
    "import pandas as pd\n",
    "import numpy as np\n",
    "import matplotlib.pyplot as plt\n",
    "import seaborn as sns\n",
    "import warnings\n",
    "warnings.filterwarnings(\"ignore\")\n",
    "from functools import reduce\n",
    "# 한글폰트 사용을 위해 설치\n",
    "\n",
    "import koreanize_matplotlib\n",
    "\n",
    "import matplotlib.pyplot as plt\n",
    "%config InlineBackend.figure_format = 'retina'\n",
    "from matplotlib import rc\n",
    "rc('font', family ='AppleGothic')\n",
    "\n",
    "pd.set_option('display.max_columns', None) # 모든 열 출력"
   ]
  },
  {
   "cell_type": "code",
   "execution_count": 2,
   "id": "32be61c1",
   "metadata": {},
   "outputs": [],
   "source": [
    "# 데이터 불러오기 \n",
    "# 가격\n",
    "df1 = pd.read_excel('코발트가격_(202106~202406).xls',header = 9,usecols = ['기준일','기준가격','등락가','등락비율','재고량'])\n",
    "# 광물종합지수\n",
    "df2 = pd.read_excel('광물종합지수(202106~202406).xls', header =3, sheet_name = 0)\n",
    "df3 = pd.read_excel('광물종합지수(202106~202406).xls', header =3, sheet_name = 1)\n",
    "df4 = pd.read_excel('광물종합지수(202106~202406).xls', header =3, sheet_name = 2)\n",
    "# 시장전망지수\n",
    "df5 = pd.read_excel('시장전망지표2024-06-14.xls', header =2)\n",
    "# 수급안정화지수\n",
    "df6 = pd.read_excel('수급안정화지수2024-06-14.xls', header =2)\n",
    "# 에너지광물지수\n",
    "df7 = pd.read_csv('053.한국광해광업공단_파생지수_에너지광물지수_20240520.csv', encoding = 'cp949')\n",
    "# 코발트 수출입\n",
    "df8 = pd.read_csv('코발트_수출입.csv')\n",
    "df9 = pd.read_csv('환율.csv')"
   ]
  },
  {
   "cell_type": "code",
   "execution_count": null,
   "id": "d29ebe64",
   "metadata": {},
   "outputs": [],
   "source": []
  }
 ],
 "metadata": {
  "kernelspec": {
   "display_name": "Python 3 (ipykernel)",
   "language": "python",
   "name": "python3"
  },
  "language_info": {
   "codemirror_mode": {
    "name": "ipython",
    "version": 3
   },
   "file_extension": ".py",
   "mimetype": "text/x-python",
   "name": "python",
   "nbconvert_exporter": "python",
   "pygments_lexer": "ipython3",
   "version": "3.9.13"
  }
 },
 "nbformat": 4,
 "nbformat_minor": 5
}
